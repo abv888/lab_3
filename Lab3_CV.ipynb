{
  "nbformat": 4,
  "nbformat_minor": 0,
  "metadata": {
    "colab": {
      "name": "Lab3_CV.ipynb",
      "provenance": [],
      "collapsed_sections": []
    },
    "kernelspec": {
      "name": "python3",
      "display_name": "Python 3"
    },
    "language_info": {
      "name": "python"
    }
  },
  "cells": [
    {
      "cell_type": "code",
      "metadata": {
        "id": "ZTFq2gpe9m1D"
      },
      "source": [
        "import cv2 as cv\n",
        "import numpy as np\n",
        "import matplotlib.pyplot as plt\n",
        "from PIL import Image"
      ],
      "execution_count": 79,
      "outputs": []
    },
    {
      "cell_type": "code",
      "metadata": {
        "id": "8Ao7v-XE9r4R"
      },
      "source": [
        "image = cv.imread('Шестеренки.png')"
      ],
      "execution_count": 80,
      "outputs": []
    },
    {
      "cell_type": "code",
      "metadata": {
        "id": "BNssEhv0_PZL"
      },
      "source": [
        "ret, threshold = cv.threshold(image, 100, 255, cv.THRESH_BINARY)\n",
        "p_thrash = Image.fromarray(threshold)\n",
        "p_thrash.save('thrashhold.png')"
      ],
      "execution_count": 81,
      "outputs": []
    },
    {
      "cell_type": "code",
      "metadata": {
        "id": "txBcc_mT91EE"
      },
      "source": [
        "# Эрозия кольцом"
      ],
      "execution_count": 82,
      "outputs": []
    },
    {
      "cell_type": "code",
      "metadata": {
        "id": "Y6crUG_v95MV"
      },
      "source": [
        "hole = 95\n",
        "ring_width = 2\n",
        "\n",
        "small = cv.getStructuringElement(cv.MORPH_ELLIPSE, (hole - ring_width, hole - ring_width))\n",
        "big = cv.getStructuringElement(cv.MORPH_ELLIPSE, (hole, hole))\n",
        "step = int(ring_width / 2)\n",
        "ring = np.array(big)\n",
        "for i in range(hole - ring_width):\n",
        "    for j in range(hole - ring_width):\n",
        "        ring[i + step][j + step] = small[i][j] ^ big[i + step][j + step]"
      ],
      "execution_count": 83,
      "outputs": []
    },
    {
      "cell_type": "code",
      "metadata": {
        "id": "yS6BWciA958N"
      },
      "source": [
        "erosion = cv.erode(threshold, ring, iterations=1)"
      ],
      "execution_count": 84,
      "outputs": []
    },
    {
      "cell_type": "code",
      "metadata": {
        "id": "Xv5Mxujn97dy"
      },
      "source": [
        "p_image = Image.fromarray(erosion)\n",
        "p_image.save('erosed_image.png')"
      ],
      "execution_count": 85,
      "outputs": []
    },
    {
      "cell_type": "code",
      "metadata": {
        "id": "AgirL4aU-WjM"
      },
      "source": [
        "# Дилатация"
      ],
      "execution_count": 86,
      "outputs": []
    },
    {
      "cell_type": "code",
      "metadata": {
        "id": "1oNjoYMz-i4k"
      },
      "source": [
        "mask = cv.getStructuringElement(cv.MORPH_ELLIPSE, (hole, hole))\n",
        "dilatation = cv.dilate(erosion, mask)\n",
        "p_dilat = Image.fromarray(dilatation)\n",
        "p_dilat.save('erosed_mask.png')"
      ],
      "execution_count": 87,
      "outputs": []
    },
    {
      "cell_type": "code",
      "metadata": {
        "id": "Zq56uAkq-4bw"
      },
      "source": [
        "# Исходное ИЛИ дилатация"
      ],
      "execution_count": 88,
      "outputs": []
    },
    {
      "cell_type": "code",
      "metadata": {
        "id": "80gmVJTu-_xE"
      },
      "source": [
        "img3 = cv.bitwise_or(image, dilatation)\n",
        "p_image3 = Image.fromarray(img3)\n",
        "p_image3.save('dilat_or_orig.png')"
      ],
      "execution_count": 89,
      "outputs": []
    },
    {
      "cell_type": "code",
      "metadata": {
        "id": "kt8--3yz_QP7"
      },
      "source": [
        "# Шестеренка"
      ],
      "execution_count": 90,
      "outputs": []
    },
    {
      "cell_type": "code",
      "metadata": {
        "id": "ks9_tB-w_bof"
      },
      "source": [
        "gear_size = 280\n",
        "gear_body = cv.getStructuringElement(cv.MORPH_ELLIPSE, (gear_size, gear_size))\n",
        "img4 = cv.morphologyEx(img3, cv.MORPH_OPEN, gear_body)\n",
        "p_image4 = Image.fromarray(img4)\n",
        "p_image4.save('gear_body_open.png')"
      ],
      "execution_count": 91,
      "outputs": []
    },
    {
      "cell_type": "code",
      "metadata": {
        "id": "KPCVxStTADpX"
      },
      "source": [
        "# Дилатация шестеренки"
      ],
      "execution_count": 92,
      "outputs": []
    },
    {
      "cell_type": "code",
      "metadata": {
        "id": "kfkIBHMBANKs"
      },
      "source": [
        "ring_height_size = 11\n",
        "ring_height = cv.getStructuringElement(cv.MORPH_ELLIPSE, (ring_height_size, ring_height_size))\n",
        "img5 = cv.dilate(img4, ring_height)\n",
        "p_image5 = Image.fromarray(img5)\n",
        "p_image5.save('height_ring_dilation.png')"
      ],
      "execution_count": 93,
      "outputs": []
    },
    {
      "cell_type": "code",
      "metadata": {
        "id": "DZwwZZbsA0Wo"
      },
      "source": [
        "# Дилатация кольцом 23"
      ],
      "execution_count": 94,
      "outputs": []
    },
    {
      "cell_type": "code",
      "metadata": {
        "id": "WXq2qGXZA_tA"
      },
      "source": [
        "ring_size = 23\n",
        "ring_sample_width = cv.getStructuringElement(cv.MORPH_ELLIPSE, (ring_size, ring_size))\n",
        "img6 = cv.dilate(img5, ring_sample_width)\n",
        "p_image6 = Image.fromarray(img6)\n",
        "p_image6.save('sample_ring_width.png')"
      ],
      "execution_count": 95,
      "outputs": []
    },
    {
      "cell_type": "code",
      "metadata": {
        "id": "N0xavnGRBnnU"
      },
      "source": [
        "# Только одно"
      ],
      "execution_count": 96,
      "outputs": []
    },
    {
      "cell_type": "code",
      "metadata": {
        "id": "J9LTjvW5Btmz"
      },
      "source": [
        "img7 = cv.bitwise_xor(img5, img6)\n",
        "p_image7 = Image.fromarray(img7)\n",
        "p_image7.save('xor7.png')"
      ],
      "execution_count": 97,
      "outputs": []
    },
    {
      "cell_type": "code",
      "metadata": {
        "id": "_TivKQFSB_7N"
      },
      "source": [
        "# ОБА"
      ],
      "execution_count": 98,
      "outputs": []
    },
    {
      "cell_type": "code",
      "metadata": {
        "id": "1VzKvU6mCHMe"
      },
      "source": [
        "img8 = cv.bitwise_and(threshold, img7)\n",
        "p_image8 = Image.fromarray(img8)\n",
        "p_image8.save('and8.png')"
      ],
      "execution_count": 99,
      "outputs": []
    },
    {
      "cell_type": "code",
      "metadata": {
        "id": "JbV1y-NnCT8H"
      },
      "source": [
        "# dilate final"
      ],
      "execution_count": 100,
      "outputs": []
    },
    {
      "cell_type": "code",
      "metadata": {
        "id": "5-2JGKN-CbUW"
      },
      "source": [
        "size = 23\n",
        "spacing = cv.getStructuringElement(cv.MORPH_ELLIPSE, (size, size))\n",
        "img9 = cv.dilate(img8, spacing)\n",
        "p_image9 = Image.fromarray(img9)\n",
        "p_image9.save('dilation9.png')"
      ],
      "execution_count": 101,
      "outputs": []
    },
    {
      "cell_type": "code",
      "metadata": {
        "id": "XfS5t35kCw0x"
      },
      "source": [
        "# subtract + dilate + or"
      ],
      "execution_count": 102,
      "outputs": []
    },
    {
      "cell_type": "code",
      "metadata": {
        "id": "_YhyaCTCC5Tf"
      },
      "source": [
        "img10 = cv.subtract(img7, img9)\n",
        "p_image10 = Image.fromarray(img10)\n",
        "p_image10.save('substract10.png')"
      ],
      "execution_count": 103,
      "outputs": []
    },
    {
      "cell_type": "code",
      "metadata": {
        "id": "pypmh4YIDGpt"
      },
      "source": [
        "defect_size = 40\n",
        "defect = cv.getStructuringElement(cv.MORPH_ELLIPSE, (defect_size, defect_size))\n",
        "img11 = cv.dilate(img10, defect)\n",
        "img_res = cv.bitwise_or(img11, img9)\n",
        "res_image = Image.fromarray(img_res)\n",
        "res_image.save('result.png')"
      ],
      "execution_count": 104,
      "outputs": []
    },
    {
      "cell_type": "code",
      "metadata": {
        "id": "m_wtJ30wDvCQ"
      },
      "source": [
        "ret, threshold2 = cv.threshold(img_res, 200, 255, cv.THRESH_BINARY)\n",
        "p_thrash = Image.fromarray(threshold2)\n",
        "p_thrash.save('finalBin.png')"
      ],
      "execution_count": 106,
      "outputs": []
    },
    {
      "cell_type": "code",
      "metadata": {
        "id": "TIxKogBWMNBy"
      },
      "source": [
        ""
      ],
      "execution_count": null,
      "outputs": []
    }
  ]
}